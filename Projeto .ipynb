{
 "cells": [
  {
   "cell_type": "markdown",
   "id": "509a1d5e",
   "metadata": {},
   "source": [
    "### Exemplo de Modelo Preditivo Para Realizar Previsões De Compras Futuras \n",
    "* Olá , sou Maria Carolina e esta é a minha primeira experiência em análise preditiva com o uso do Suporte Vector Machine (SVM).\n",
    "* Este projeto esta sendo desenvolvido com base em estudos a partir de uma aula em vídeo  "
   ]
  },
  {
   "cell_type": "markdown",
   "id": "cf89fed7",
   "metadata": {},
   "source": [
    "### Definição do problema de Negócio: \n",
    "* o primeiro passo é definir o objetivo , o problema que a análise vai buscar resolver \n",
    "* Nossa tarefa consistirá em avaliar os atributos que impactam a decisão de um usuário ao comprar produtos online e criar um modelo preditivo para fazer previsões de compras futuras."
   ]
  },
  {
   "cell_type": "markdown",
   "id": "beb434a0",
   "metadata": {},
   "source": [
    "### Dataset :\n",
    " * Online Shoppers Purchasing Intention Dataset:   \n",
    "https://archive.ics.uci.edu/ml/datasets/Online+Shoppers+Purchasing+Intention+Dataset  \n",
    "* O conjunto de dados é composto por valores de atributos de 12.330 sessões online distintas. Esses dados foram compilados assegurando que cada sessão é única a um usuário e distribuída ao longo de um ano, para minimizar viés relacionados a campanhas específicas, datas comemorativas, perfis de usuários ou períodos determinados.   \n",
    "* Incluído no conjunto, existem 10 atributos quantitativos e 8 qualitativos. O atributo 'Revenue' é designado como a variável dependente, servindo como a etiqueta para classificação ou o que denominamos de variável alvo.  \n"
   ]
  },
  {
   "cell_type": "code",
   "execution_count": null,
   "id": "5f7aa0f9",
   "metadata": {},
   "outputs": [],
   "source": [
    "# Importando bibliotecas que iremos utilizar...\n",
    "import time\n",
    "import numpy as np\n",
    "import pandas as pd\n",
    "import seaborn as sns\n",
    "import matplotlib.pyplot as plt\n",
    "from sklearn.preprocessing import StandardScaler\n",
    "from sklearn.preprocessing import LabelEncoder\n",
    "from sklearn.model_selection import train_test_split\n",
    "from sklearn.model_selection import GridSearchCV\n",
    "from sklearn.metrics import precision_score, recall_score, f1_score, accuracy_score, roc_auc_score\n",
    "from sklearn import svm\n",
    "import sklearn\n",
    "import matplotlib\n",
    "import warnings\n",
    "warnings.filterwarnings(\"ignore\")\n",
    "warnings.filterwarnings('ignore', category=DeprecationWarning)"
   ]
  },
  {
   "cell_type": "markdown",
   "id": "e3c2e1b7",
   "metadata": {},
   "source": [
    "### Carregando os Dados :"
   ]
  },
  {
   "cell_type": "code",
   "execution_count": null,
   "id": "fde63788",
   "metadata": {},
   "outputs": [],
   "source": [
    "df_original = pd.read_csv('online_shoppers_intention.csv')\n",
    "df_original.head()"
   ]
  },
  {
   "cell_type": "code",
   "execution_count": null,
   "id": "91a7a785",
   "metadata": {},
   "outputs": [],
   "source": []
  }
 ],
 "metadata": {
  "kernelspec": {
   "display_name": "Python 3 (ipykernel)",
   "language": "python",
   "name": "python3"
  },
  "language_info": {
   "codemirror_mode": {
    "name": "ipython",
    "version": 3
   },
   "file_extension": ".py",
   "mimetype": "text/x-python",
   "name": "python",
   "nbconvert_exporter": "python",
   "pygments_lexer": "ipython3",
   "version": "3.11.5"
  }
 },
 "nbformat": 4,
 "nbformat_minor": 5
}
